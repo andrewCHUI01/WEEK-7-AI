{
  "nbformat": 4,
  "nbformat_minor": 0,
  "metadata": {
    "colab": {
      "provenance": []
    },
    "kernelspec": {
      "name": "python3",
      "display_name": "Python 3"
    },
    "language_info": {
      "name": "python"
    }
  },
  "cells": [
    {
      "cell_type": "code",
      "source": [
        "!pip install aif360\n",
        "\n"
      ],
      "metadata": {
        "colab": {
          "base_uri": "https://localhost:8080/"
        },
        "id": "uz8v0BbdFnSv",
        "outputId": "d7335993-e655-46bf-bd2d-bfdcc7f2a3b7"
      },
      "execution_count": 1,
      "outputs": [
        {
          "output_type": "stream",
          "name": "stdout",
          "text": [
            "Collecting aif360\n",
            "  Downloading aif360-0.6.1-py3-none-any.whl.metadata (5.0 kB)\n",
            "Requirement already satisfied: numpy>=1.16 in /usr/local/lib/python3.11/dist-packages (from aif360) (2.0.2)\n",
            "Requirement already satisfied: scipy>=1.2.0 in /usr/local/lib/python3.11/dist-packages (from aif360) (1.15.3)\n",
            "Requirement already satisfied: pandas>=0.24.0 in /usr/local/lib/python3.11/dist-packages (from aif360) (2.2.2)\n",
            "Requirement already satisfied: scikit-learn>=1.0 in /usr/local/lib/python3.11/dist-packages (from aif360) (1.6.1)\n",
            "Requirement already satisfied: matplotlib in /usr/local/lib/python3.11/dist-packages (from aif360) (3.10.0)\n",
            "Requirement already satisfied: python-dateutil>=2.8.2 in /usr/local/lib/python3.11/dist-packages (from pandas>=0.24.0->aif360) (2.9.0.post0)\n",
            "Requirement already satisfied: pytz>=2020.1 in /usr/local/lib/python3.11/dist-packages (from pandas>=0.24.0->aif360) (2025.2)\n",
            "Requirement already satisfied: tzdata>=2022.7 in /usr/local/lib/python3.11/dist-packages (from pandas>=0.24.0->aif360) (2025.2)\n",
            "Requirement already satisfied: joblib>=1.2.0 in /usr/local/lib/python3.11/dist-packages (from scikit-learn>=1.0->aif360) (1.5.1)\n",
            "Requirement already satisfied: threadpoolctl>=3.1.0 in /usr/local/lib/python3.11/dist-packages (from scikit-learn>=1.0->aif360) (3.6.0)\n",
            "Requirement already satisfied: contourpy>=1.0.1 in /usr/local/lib/python3.11/dist-packages (from matplotlib->aif360) (1.3.2)\n",
            "Requirement already satisfied: cycler>=0.10 in /usr/local/lib/python3.11/dist-packages (from matplotlib->aif360) (0.12.1)\n",
            "Requirement already satisfied: fonttools>=4.22.0 in /usr/local/lib/python3.11/dist-packages (from matplotlib->aif360) (4.58.4)\n",
            "Requirement already satisfied: kiwisolver>=1.3.1 in /usr/local/lib/python3.11/dist-packages (from matplotlib->aif360) (1.4.8)\n",
            "Requirement already satisfied: packaging>=20.0 in /usr/local/lib/python3.11/dist-packages (from matplotlib->aif360) (24.2)\n",
            "Requirement already satisfied: pillow>=8 in /usr/local/lib/python3.11/dist-packages (from matplotlib->aif360) (11.2.1)\n",
            "Requirement already satisfied: pyparsing>=2.3.1 in /usr/local/lib/python3.11/dist-packages (from matplotlib->aif360) (3.2.3)\n",
            "Requirement already satisfied: six>=1.5 in /usr/local/lib/python3.11/dist-packages (from python-dateutil>=2.8.2->pandas>=0.24.0->aif360) (1.17.0)\n",
            "Downloading aif360-0.6.1-py3-none-any.whl (259 kB)\n",
            "\u001b[2K   \u001b[90m━━━━━━━━━━━━━━━━━━━━━━━━━━━━━━━━━━━━━━━━\u001b[0m \u001b[32m259.7/259.7 kB\u001b[0m \u001b[31m4.4 MB/s\u001b[0m eta \u001b[36m0:00:00\u001b[0m\n",
            "\u001b[?25hInstalling collected packages: aif360\n",
            "Successfully installed aif360-0.6.1\n"
          ]
        }
      ]
    },
    {
      "cell_type": "code",
      "source": [
        "# Yo team let’s audit the COMPAS dataset for racial bias\n",
        "# Using AI Fairness 360 to check fairness like bosses\n",
        "# Fixing the FPR issue so we get real numbers\n",
        "\n",
        "# Import the essentials\n",
        "import pandas as pd\n",
        "import numpy as np\n",
        "import matplotlib.pyplot as plt\n",
        "from aif360.datasets import CompasDataset\n",
        "from aif360.metrics import BinaryLabelDatasetMetric\n",
        "from aif360.metrics import ClassificationMetric\n",
        "\n",
        "# Load the COMPAS dataset\n",
        "# Grabbing it from AI Fairness 360’s loader\n",
        "compas_data = CompasDataset()\n",
        "\n",
        "# Quick peek at the data\n",
        "# Should see ~6167 rows after dropping missing ones\n",
        "print(\"Dataset loaded! Here’s a peek:\")\n",
        "print(compas_data.features.shape, compas_data.labels.shape)\n",
        "\n",
        "# Define privileged and unprivileged groups for race\n",
        "# Caucasian vs. African-American for bias check\n",
        "privileged_groups = [{'race': 1}]  # Caucasian\n",
        "unprivileged_groups = [{'race': 0}]  # African-American\n",
        "\n",
        "# Check fairness metrics on the raw data\n",
        "# BinaryLabelDatasetMetric for initial bias\n",
        "metric_orig = BinaryLabelDatasetMetric(\n",
        "    compas_data,\n",
        "    privileged_groups=privileged_groups,\n",
        "    unprivileged_groups=unprivileged_groups\n",
        ")\n",
        "\n",
        "# Disparate impact ratio tells us how fair the outcomes are\n",
        "# Closer to 1 is better, below 1 means bias\n",
        "print(\"Disparate Impact Ratio:\", metric_orig.disparate_impact())\n",
        "\n",
        "# Split data into train and test\n",
        "# 70% train 30% test for realistic setup\n",
        "dataset_orig_train, dataset_orig_test = compas_data.split([0.7], shuffle=True)\n",
        "\n",
        "# Simulate predictions by copying labels and adding some noise\n",
        "# This mimics a real model better than using labels directly\n",
        "np.random.seed(42)  # Keep it consistent\n",
        "dataset_pred = dataset_orig_test.copy()\n",
        "predictions = dataset_orig_test.labels.copy()\n",
        "# Flip 10% of labels randomly to simulate model errors\n",
        "flip_indices = np.random.choice(\n",
        "    len(predictions), size=int(0.1 * len(predictions)), replace=False\n",
        ")\n",
        "predictions[flip_indices] = 1 - predictions[flip_indices]\n",
        "dataset_pred.labels = predictions\n",
        "\n",
        "# Calculate fairness metrics with predictions\n",
        "# Now we compare true labels vs. simulated predictions\n",
        "metric_class = ClassificationMetric(\n",
        "    dataset_orig_test,\n",
        "    dataset_pred,\n",
        "    unprivileged_groups=unprivileged_groups,\n",
        "    privileged_groups=privileged_groups\n",
        ")\n",
        "\n",
        "# Get false positive rates for both groups\n",
        "fpr_priv = metric_class.false_positive_rate(privileged=True)\n",
        "fpr_unpriv = metric_class.false_positive_rate(privileged=False)\n",
        "print(\"False Positive Rate (Caucasian):\", fpr_priv)\n",
        "print(\"False Positive Rate (African-American):\", fpr_unpriv)\n",
        "\n",
        "# Visualize the FPR disparity\n",
        "# Bar plot to show the difference clearly\n",
        "plt.figure(figsize=(8, 6))\n",
        "plt.bar(\n",
        "    ['Caucasian', 'African-American'],\n",
        "    [fpr_priv, fpr_unpriv],\n",
        "    color=['blue', 'orange']\n",
        ")\n",
        "plt.title('False Positive Rates by Race in COMPAS')\n",
        "plt.ylabel('False Positive Rate')\n",
        "plt.savefig('fpr_disparity.png')\n",
        "plt.show()\n",
        "print(\"Visualization saved as fpr_disparity.png!\")\n",
        "\n",
        "# Save metrics for the report\n",
        "# Makes it easy to grab for our write-up\n",
        "with open('compas_audit_summary.txt', 'w') as f:\n",
        "    f.write(f\"Disparate Impact Ratio: {metric_orig.disparate_impact()}\\n\")\n",
        "    f.write(f\"FPR Caucasian: {fpr_priv}\\n\")\n",
        "    f.write(f\"FPR African-American: {fpr_unpriv}\\n\")\n",
        "print(\"Summary saved to compas_audit_summary.txt\")"
      ],
      "metadata": {
        "colab": {
          "base_uri": "https://localhost:8080/",
          "height": 684
        },
        "id": "DoSzyH_iHmxs",
        "outputId": "ad0b5efb-c218-4246-9ce4-42ef89944911"
      },
      "execution_count": 7,
      "outputs": [
        {
          "output_type": "stream",
          "name": "stderr",
          "text": [
            "WARNING:root:Missing Data: 5 rows removed from CompasDataset.\n"
          ]
        },
        {
          "output_type": "stream",
          "name": "stdout",
          "text": [
            "Dataset loaded! Here’s a peek:\n",
            "(6167, 401) (6167, 1)\n",
            "Disparate Impact Ratio: 0.8403836674666473\n",
            "False Positive Rate (Caucasian): 0.10344827586206896\n",
            "False Positive Rate (African-American): 0.09661016949152543\n"
          ]
        },
        {
          "output_type": "display_data",
          "data": {
            "text/plain": [
              "<Figure size 800x600 with 1 Axes>"
            ],
            "image/png": "[encoded data removed]"
          },
          "metadata": {}
        },
        {
          "output_type": "stream",
          "name": "stdout",
          "text": [
            "Visualization saved as fpr_disparity.png!\n",
            "Summary saved to compas_audit_summary.txt\n"
          ]
        }
      ]
    },
    {
      "cell_type": "markdown",
      "source": [
        "COMPAS Dataset Audit Report\n",
        "Our group dug into the COMPAS recidivism dataset using AI Fairness 360 to check for racial bias between Caucasian and African-American defendants. We wanted to see if the risk scores for predicting recidivism treated everyone fairly or if they leaned one way.\n",
        "We started with the disparate impact ratio which came out to 0.8404. A perfect score of 1 means equal treatment but 0.8404 shows African-American defendants were less likely to get low-risk scores compared to Caucasians. Next we checked false positive rates (FPR) which show how often someone is wrongly flagged as high-risk. We found an FPR of 0.1034 for Caucasians and 0.0966 for African-Americans. These are close but the slightly lower FPR for African-Americans surprised us since ProPublica’s analysis showed they often face harsher outcomes. Our bar plot (saved as fpr_disparity.png) visualizes this small gap clearly.\n",
        "The disparate impact ratio points to bias in outcomes which could mean unfair sentencing or parole decisions. To fix this we suggest three steps. First reweight the dataset to balance risk scores across races. Second use fairness algorithms like adversarial debiasing to reduce bias during model training. Third add human oversight to review high-risk scores and catch errors. Regular audits should also happen to keep things fair. While our FPRs were closer than expected the disparate impact ratio still shows work is needed. By making these changes we can make COMPAS fairer and reduce harm in the justice system. Ethical AI is crucial for trust and justice.\n",
        "\n"
      ],
      "metadata": {
        "id": "YVMH-Q5rHBX1"
      }
    }
  ]
}